{
 "cells": [
  {
   "cell_type": "markdown",
   "metadata": {},
   "source": [
    "# Prueba tecnica - BAC\n",
    "## Pablo Escobar - 2024"
   ]
  },
  {
   "cell_type": "markdown",
   "metadata": {},
   "source": [
    "### Pregunta 1"
   ]
  },
  {
   "cell_type": "markdown",
   "metadata": {},
   "source": [
    "Dada esta base de datos, ¿cuál es el nivel de granularidad más fino en la reportería que se \n",
    "puede tener? Explique su razonamiento (el identificador de gestión no se usa en reportería)."
   ]
  },
  {
   "cell_type": "code",
   "execution_count": 26,
   "metadata": {},
   "outputs": [
    {
     "name": "stdout",
     "output_type": "stream",
     "text": [
      "Requirement already satisfied: pandasql in c:\\python311\\lib\\site-packages (0.7.3)\n",
      "Requirement already satisfied: numpy in c:\\python311\\lib\\site-packages (from pandasql) (1.24.3)\n",
      "Requirement already satisfied: pandas in c:\\python311\\lib\\site-packages (from pandasql) (2.0.3)\n",
      "Requirement already satisfied: sqlalchemy in c:\\python311\\lib\\site-packages (from pandasql) (2.0.31)\n",
      "Requirement already satisfied: python-dateutil>=2.8.2 in c:\\users\\dell\\appdata\\roaming\\python\\python311\\site-packages (from pandas->pandasql) (2.8.2)\n",
      "Requirement already satisfied: pytz>=2020.1 in c:\\python311\\lib\\site-packages (from pandas->pandasql) (2023.3)\n",
      "Requirement already satisfied: tzdata>=2022.1 in c:\\python311\\lib\\site-packages (from pandas->pandasql) (2023.3)\n",
      "Requirement already satisfied: typing-extensions>=4.6.0 in c:\\python311\\lib\\site-packages (from sqlalchemy->pandasql) (4.12.2)\n",
      "Requirement already satisfied: greenlet!=0.4.17 in c:\\python311\\lib\\site-packages (from sqlalchemy->pandasql) (2.0.2)\n",
      "Requirement already satisfied: six>=1.5 in c:\\users\\dell\\appdata\\roaming\\python\\python311\\site-packages (from python-dateutil>=2.8.2->pandas->pandasql) (1.16.0)\n",
      "Note: you may need to restart the kernel to use updated packages.\n"
     ]
    },
    {
     "name": "stderr",
     "output_type": "stream",
     "text": [
      "DEPRECATION: Loading egg at c:\\python311\\lib\\site-packages\\vboxapi-1.0-py3.11.egg is deprecated. pip 24.3 will enforce this behaviour change. A possible replacement is to use pip for package installation.. Discussion can be found at https://github.com/pypa/pip/issues/12330\n",
      "DEPRECATION: Loading egg at c:\\python311\\lib\\site-packages\\wkhtmltopdf-master-py3.11.egg is deprecated. pip 24.3 will enforce this behaviour change. A possible replacement is to use pip for package installation.. Discussion can be found at https://github.com/pypa/pip/issues/12330\n",
      "DEPRECATION: tensorview 0.4.1 has a non-standard dependency specifier pyecharts-snapshot>=0.1.10tensorflow>=2.0.0. pip 24.1 will enforce this behaviour change. A possible replacement is to upgrade to a newer version of tensorview or contact the author to suggest that they release a version with a conforming dependency specifiers. Discussion can be found at https://github.com/pypa/pip/issues/12063\n",
      "DEPRECATION: wkhtmltopdf master has a non-standard version number. pip 24.1 will enforce this behaviour change. A possible replacement is to upgrade to a newer version of wkhtmltopdf or contact the author to suggest that they release a version with a conforming version number. Discussion can be found at https://github.com/pypa/pip/issues/12063\n"
     ]
    }
   ],
   "source": [
    "import pandas as pd\n",
    "import numpy as np\n",
    "import matplotlib.pyplot as plt\n",
    "\n",
    "# install pandasql\n",
    "%pip install pandasql\n",
    "\n",
    "from pandasql import sqldf"
   ]
  },
  {
   "cell_type": "code",
   "execution_count": 64,
   "metadata": {},
   "outputs": [
    {
     "data": {
      "text/html": [
       "<div>\n",
       "<style scoped>\n",
       "    .dataframe tbody tr th:only-of-type {\n",
       "        vertical-align: middle;\n",
       "    }\n",
       "\n",
       "    .dataframe tbody tr th {\n",
       "        vertical-align: top;\n",
       "    }\n",
       "\n",
       "    .dataframe thead th {\n",
       "        text-align: right;\n",
       "    }\n",
       "</style>\n",
       "<table border=\"1\" class=\"dataframe\">\n",
       "  <thead>\n",
       "    <tr style=\"text-align: right;\">\n",
       "      <th></th>\n",
       "      <th>ID_cliente</th>\n",
       "      <th>Cuenta</th>\n",
       "      <th>Tarjeta</th>\n",
       "    </tr>\n",
       "    <tr>\n",
       "      <th>Id_gestión</th>\n",
       "      <th></th>\n",
       "      <th></th>\n",
       "      <th></th>\n",
       "    </tr>\n",
       "  </thead>\n",
       "  <tbody>\n",
       "    <tr>\n",
       "      <th>1</th>\n",
       "      <td>A</td>\n",
       "      <td>1</td>\n",
       "      <td>T1</td>\n",
       "    </tr>\n",
       "    <tr>\n",
       "      <th>2</th>\n",
       "      <td>A</td>\n",
       "      <td>1</td>\n",
       "      <td>T1</td>\n",
       "    </tr>\n",
       "    <tr>\n",
       "      <th>3</th>\n",
       "      <td>B</td>\n",
       "      <td>2</td>\n",
       "      <td>T2</td>\n",
       "    </tr>\n",
       "    <tr>\n",
       "      <th>4</th>\n",
       "      <td>B</td>\n",
       "      <td>2</td>\n",
       "      <td>T2</td>\n",
       "    </tr>\n",
       "    <tr>\n",
       "      <th>5</th>\n",
       "      <td>B</td>\n",
       "      <td>3</td>\n",
       "      <td>T3</td>\n",
       "    </tr>\n",
       "  </tbody>\n",
       "</table>\n",
       "</div>"
      ],
      "text/plain": [
       "           ID_cliente  Cuenta Tarjeta\n",
       "Id_gestión                           \n",
       "1                   A       1      T1\n",
       "2                   A       1      T1\n",
       "3                   B       2      T2\n",
       "4                   B       2      T2\n",
       "5                   B       3      T3"
      ]
     },
     "execution_count": 64,
     "metadata": {},
     "output_type": "execute_result"
    }
   ],
   "source": [
    "data1 = pd.read_csv('./databases/bdp1.csv', index_col=0)\n",
    "data1.head()"
   ]
  },
  {
   "cell_type": "markdown",
   "metadata": {},
   "source": [
    "Al observar la tabla podemos ver que un cliente puede tener muchas cuentas y que una cuenta puede tener muchas tarjetas. por lo que tenemos que la relación de cliente a cuenta es de uno a muchos y que la relación de cuenta a tarjeta es  de igual manera de una a muchas."
   ]
  },
  {
   "cell_type": "markdown",
   "metadata": {},
   "source": [
    "Al hablar de cuál es el nivel de granularidad más fino, estamos hablando de encontrar la combinación de campos que nos permita encontrar la mayor diferenciación entre los registros, en otras palabras, la manera de tener menos duplicidad. Para lograr esto debemos tomar en cuenta las relaciones que ya mencionamos anteriormente. Al ser las relaciones de una a muchas, la manera en que podemos obentener la menor duplicidad es usando la combinación de \n",
    "#### ID_Cliente + Cuenta + Tarjeta\n",
    "Este nivel de combinación parece ser el más específico, ya que combina la información de cliente, cuenta y tarjeta, lo que debería garantizar la unicidad (o casi) de cada registro en la mayoría de los casos."
   ]
  },
  {
   "cell_type": "markdown",
   "metadata": {},
   "source": [
    "### Pregunta 2"
   ]
  },
  {
   "cell_type": "markdown",
   "metadata": {},
   "source": [
    "Si se tienen las siguientes bases de datos, haga el código SQL que permita unir estas dos \n",
    "tablas de la forma más eficiente posible. Explique su razonamiento."
   ]
  },
  {
   "cell_type": "code",
   "execution_count": 28,
   "metadata": {},
   "outputs": [],
   "source": [
    "datap2_1 = pd.read_csv('./databases/p2/bdp2-1.csv')\n",
    "datap2_2 = pd.read_csv('./databases/p2/bdp2-2.csv')"
   ]
  },
  {
   "cell_type": "code",
   "execution_count": 29,
   "metadata": {},
   "outputs": [
    {
     "data": {
      "text/html": [
       "<div>\n",
       "<style scoped>\n",
       "    .dataframe tbody tr th:only-of-type {\n",
       "        vertical-align: middle;\n",
       "    }\n",
       "\n",
       "    .dataframe tbody tr th {\n",
       "        vertical-align: top;\n",
       "    }\n",
       "\n",
       "    .dataframe thead th {\n",
       "        text-align: right;\n",
       "    }\n",
       "</style>\n",
       "<table border=\"1\" class=\"dataframe\">\n",
       "  <thead>\n",
       "    <tr style=\"text-align: right;\">\n",
       "      <th></th>\n",
       "      <th>Cuenta</th>\n",
       "      <th>Tarjeta</th>\n",
       "      <th>Fecha</th>\n",
       "      <th>Monto</th>\n",
       "    </tr>\n",
       "  </thead>\n",
       "  <tbody>\n",
       "    <tr>\n",
       "      <th>0</th>\n",
       "      <td>1</td>\n",
       "      <td>A1</td>\n",
       "      <td>202102</td>\n",
       "      <td>324.27</td>\n",
       "    </tr>\n",
       "    <tr>\n",
       "      <th>1</th>\n",
       "      <td>1</td>\n",
       "      <td>A1</td>\n",
       "      <td>202102</td>\n",
       "      <td>948.15</td>\n",
       "    </tr>\n",
       "    <tr>\n",
       "      <th>2</th>\n",
       "      <td>1</td>\n",
       "      <td>A1</td>\n",
       "      <td>202102</td>\n",
       "      <td>590.57</td>\n",
       "    </tr>\n",
       "    <tr>\n",
       "      <th>3</th>\n",
       "      <td>1</td>\n",
       "      <td>A2</td>\n",
       "      <td>202102</td>\n",
       "      <td>503.55</td>\n",
       "    </tr>\n",
       "    <tr>\n",
       "      <th>4</th>\n",
       "      <td>2</td>\n",
       "      <td>B1</td>\n",
       "      <td>202102</td>\n",
       "      <td>685.66</td>\n",
       "    </tr>\n",
       "  </tbody>\n",
       "</table>\n",
       "</div>"
      ],
      "text/plain": [
       "   Cuenta Tarjeta   Fecha   Monto\n",
       "0       1      A1  202102  324.27\n",
       "1       1      A1  202102  948.15\n",
       "2       1      A1  202102  590.57\n",
       "3       1      A2  202102  503.55\n",
       "4       2      B1  202102  685.66"
      ]
     },
     "execution_count": 29,
     "metadata": {},
     "output_type": "execute_result"
    }
   ],
   "source": [
    "datap2_1.head()"
   ]
  },
  {
   "cell_type": "code",
   "execution_count": 30,
   "metadata": {},
   "outputs": [
    {
     "data": {
      "text/html": [
       "<div>\n",
       "<style scoped>\n",
       "    .dataframe tbody tr th:only-of-type {\n",
       "        vertical-align: middle;\n",
       "    }\n",
       "\n",
       "    .dataframe tbody tr th {\n",
       "        vertical-align: top;\n",
       "    }\n",
       "\n",
       "    .dataframe thead th {\n",
       "        text-align: right;\n",
       "    }\n",
       "</style>\n",
       "<table border=\"1\" class=\"dataframe\">\n",
       "  <thead>\n",
       "    <tr style=\"text-align: right;\">\n",
       "      <th></th>\n",
       "      <th>Cuenta</th>\n",
       "      <th>Tarjeta</th>\n",
       "      <th>Fecha</th>\n",
       "      <th>Monto</th>\n",
       "    </tr>\n",
       "  </thead>\n",
       "  <tbody>\n",
       "    <tr>\n",
       "      <th>0</th>\n",
       "      <td>1</td>\n",
       "      <td>A1</td>\n",
       "      <td>202101</td>\n",
       "      <td>497.05</td>\n",
       "    </tr>\n",
       "    <tr>\n",
       "      <th>1</th>\n",
       "      <td>1</td>\n",
       "      <td>A1</td>\n",
       "      <td>202101</td>\n",
       "      <td>802.77</td>\n",
       "    </tr>\n",
       "    <tr>\n",
       "      <th>2</th>\n",
       "      <td>2</td>\n",
       "      <td>B1</td>\n",
       "      <td>202101</td>\n",
       "      <td>0.41</td>\n",
       "    </tr>\n",
       "    <tr>\n",
       "      <th>3</th>\n",
       "      <td>2</td>\n",
       "      <td>B1</td>\n",
       "      <td>202101</td>\n",
       "      <td>753.65</td>\n",
       "    </tr>\n",
       "    <tr>\n",
       "      <th>4</th>\n",
       "      <td>2</td>\n",
       "      <td>B1</td>\n",
       "      <td>202101</td>\n",
       "      <td>342.07</td>\n",
       "    </tr>\n",
       "  </tbody>\n",
       "</table>\n",
       "</div>"
      ],
      "text/plain": [
       "   Cuenta Tarjeta   Fecha   Monto\n",
       "0       1      A1  202101  497.05\n",
       "1       1      A1  202101  802.77\n",
       "2       2      B1  202101    0.41\n",
       "3       2      B1  202101  753.65\n",
       "4       2      B1  202101  342.07"
      ]
     },
     "execution_count": 30,
     "metadata": {},
     "output_type": "execute_result"
    }
   ],
   "source": [
    "datap2_2.head()"
   ]
  },
  {
   "cell_type": "code",
   "execution_count": 78,
   "metadata": {
    "vscode": {
     "languageId": "sql"
    }
   },
   "outputs": [
    {
     "name": "stdout",
     "output_type": "stream",
     "text": [
      "Couldn't find program: 'false'\n"
     ]
    }
   ],
   "source": [
    "%%script false --no-raise-error\n",
    "SELECT d1.cuenta, d1.tarjeta, d1.fecha, d1.monto \n",
    "FROM datap2_1 as d1\n",
    "        UNION ALL\n",
    "SELECT d2.cuenta, d2.tarjeta, d2.fecha, d2.monto \n",
    "FROM datap2_2 as d2\n",
    "        ORDER BY d1.cuenta;"
   ]
  },
  {
   "cell_type": "code",
   "execution_count": 79,
   "metadata": {},
   "outputs": [
    {
     "name": "stdout",
     "output_type": "stream",
     "text": [
      "    Cuenta Tarjeta   Fecha   Monto\n",
      "0        1      A1  202102  324.27\n",
      "1        1      A1  202102  948.15\n",
      "2        1      A1  202102  590.57\n",
      "3        1      A2  202102  503.55\n",
      "4        1      A1  202101  497.05\n",
      "5        1      A1  202101  802.77\n",
      "6        2      B1  202102  685.66\n",
      "7        2      B1  202102  502.23\n",
      "8        2      B1  202102  855.73\n",
      "9        2      B1  202101    0.41\n",
      "10       2      B1  202101  753.65\n",
      "11       2      B1  202101  342.07\n",
      "12       2      B1  202101  574.72\n",
      "13       3      C1  202102  699.11\n",
      "14       3      C1  202102  784.01\n",
      "15       3      C1  202101  621.92\n",
      "16       3      C2  202101  317.52\n",
      "17       4      D1  202102  990.07\n",
      "18       4      D1  202102  723.55\n",
      "19       4      D1  202102  585.19\n",
      "20       4      D2  202102  993.21\n",
      "21       4      D1  202101  681.45\n",
      "22       4      D2  202101  479.97\n",
      "23       5      E1  202101  419.34\n",
      "24       5      E1  202101  944.46\n",
      "25       5      E1  202101  692.59\n"
     ]
    }
   ],
   "source": [
    "print(sqldf('''\n",
    "        SELECT d1.cuenta, d1.tarjeta, d1.fecha, d1.monto FROM datap2_1 as d1\n",
    "        UNION ALL\n",
    "        SELECT d2.cuenta, d2.tarjeta, d2.fecha, d2.monto FROM datap2_2 as d2\n",
    "        ORDER BY d1.cuenta;\n",
    "'''))"
   ]
  },
  {
   "cell_type": "markdown",
   "metadata": {},
   "source": [
    "Dado que ambas tablas almacenan la misma información y no se trata de una relación con una tabla de catálogo, lo más lógico es unir las dos tablas utilizando un UNION. En este caso específico, es preferible usar UNION ALL, ya que debido a la granularidad de los datos, podría haber registros repetidos. Por ejemplo, si Pepito realiza dos transacciones de Q50, una a su papá y otra a su mamá, a nivel de tabla habría registros repetidos, ya que existiría la misma fila dos veces. Sin embargo, en realidad, se trata de dos transacciones separadas."
   ]
  },
  {
   "cell_type": "markdown",
   "metadata": {},
   "source": [
    "### Pregunta 3"
   ]
  },
  {
   "cell_type": "markdown",
   "metadata": {},
   "source": [
    "Dada la estructura de esta base de datos, ¿qué variables (mínimo 1 y máximo 2) usaría para \n",
    "crearle un índice? Explique su razonamiento."
   ]
  },
  {
   "cell_type": "code",
   "execution_count": 32,
   "metadata": {},
   "outputs": [
    {
     "data": {
      "text/html": [
       "<div>\n",
       "<style scoped>\n",
       "    .dataframe tbody tr th:only-of-type {\n",
       "        vertical-align: middle;\n",
       "    }\n",
       "\n",
       "    .dataframe tbody tr th {\n",
       "        vertical-align: top;\n",
       "    }\n",
       "\n",
       "    .dataframe thead th {\n",
       "        text-align: right;\n",
       "    }\n",
       "</style>\n",
       "<table border=\"1\" class=\"dataframe\">\n",
       "  <thead>\n",
       "    <tr style=\"text-align: right;\">\n",
       "      <th></th>\n",
       "      <th>Campo</th>\n",
       "      <th>Descripción</th>\n",
       "      <th>tipo de dato</th>\n",
       "      <th>Ejemplo</th>\n",
       "      <th>Cantidad únicos</th>\n",
       "    </tr>\n",
       "  </thead>\n",
       "  <tbody>\n",
       "    <tr>\n",
       "      <th>0</th>\n",
       "      <td>ID_cliente</td>\n",
       "      <td>Identificador del cliente</td>\n",
       "      <td>string</td>\n",
       "      <td>CLIENTE1</td>\n",
       "      <td>113456</td>\n",
       "    </tr>\n",
       "    <tr>\n",
       "      <th>1</th>\n",
       "      <td>Fecha</td>\n",
       "      <td>Año y mes de los datos</td>\n",
       "      <td>numérico</td>\n",
       "      <td>202103</td>\n",
       "      <td>36</td>\n",
       "    </tr>\n",
       "    <tr>\n",
       "      <th>2</th>\n",
       "      <td>Cuenta</td>\n",
       "      <td>Número de cuenta que hizo la transacción</td>\n",
       "      <td>string</td>\n",
       "      <td>1234567890</td>\n",
       "      <td>185678</td>\n",
       "    </tr>\n",
       "    <tr>\n",
       "      <th>3</th>\n",
       "      <td>Tipo_cuenta</td>\n",
       "      <td>Cuenta es de crédito o débito</td>\n",
       "      <td>string</td>\n",
       "      <td>CRE - DEB</td>\n",
       "      <td>2</td>\n",
       "    </tr>\n",
       "    <tr>\n",
       "      <th>4</th>\n",
       "      <td>plan_lealtad</td>\n",
       "      <td>plan de lealtad de la cuenta</td>\n",
       "      <td>string</td>\n",
       "      <td>Millas Plus</td>\n",
       "      <td>12</td>\n",
       "    </tr>\n",
       "    <tr>\n",
       "      <th>5</th>\n",
       "      <td>Color</td>\n",
       "      <td>color de la tarjeta de crédito</td>\n",
       "      <td>string</td>\n",
       "      <td>Black</td>\n",
       "      <td>4</td>\n",
       "    </tr>\n",
       "    <tr>\n",
       "      <th>6</th>\n",
       "      <td>Monto_trx</td>\n",
       "      <td>Monto de la transacción</td>\n",
       "      <td>numérico</td>\n",
       "      <td>117.56</td>\n",
       "      <td>81456662</td>\n",
       "    </tr>\n",
       "    <tr>\n",
       "      <th>7</th>\n",
       "      <td>Afiliado</td>\n",
       "      <td>Comercio donde se hizo la transacción</td>\n",
       "      <td>string</td>\n",
       "      <td>30405060</td>\n",
       "      <td>25678</td>\n",
       "    </tr>\n",
       "  </tbody>\n",
       "</table>\n",
       "</div>"
      ],
      "text/plain": [
       "          Campo                                Descripción tipo de dato  \\\n",
       "0    ID_cliente                  Identificador del cliente       string   \n",
       "1         Fecha                     Año y mes de los datos     numérico   \n",
       "2        Cuenta   Número de cuenta que hizo la transacción      string    \n",
       "3   Tipo_cuenta              Cuenta es de crédito o débito       string   \n",
       "4  plan_lealtad               plan de lealtad de la cuenta       string   \n",
       "5        Color             color de la tarjeta de crédito       string    \n",
       "6     Monto_trx                    Monto de la transacción     numérico   \n",
       "7      Afiliado      Comercio donde se hizo la transacción      string    \n",
       "\n",
       "        Ejemplo   Cantidad únicos  \n",
       "0      CLIENTE1            113456  \n",
       "1        202103                36  \n",
       "2   1234567890             185678  \n",
       "3     CRE - DEB                 2  \n",
       "4   Millas Plus                12  \n",
       "5         Black                 4  \n",
       "6        117.56          81456662  \n",
       "7      30405060             25678  "
      ]
     },
     "execution_count": 32,
     "metadata": {},
     "output_type": "execute_result"
    }
   ],
   "source": [
    "bdp3 = pd.read_csv('./databases/bdp3.csv')\n",
    "bdp3"
   ]
  },
  {
   "cell_type": "markdown",
   "metadata": {},
   "source": [
    "Usar un índice compuesto de ID_cliente y Cuenta es una buena opción porque permite realizar búsquedas más eficientes y específicas en la base de datos, mejorando significativamente el rendimiento en consultas que requieren filtrar tanto por cliente como por cuenta.  Además, aunque el índice compuesto ofrece ventajas significativas, los índices separados en ID_cliente y Cuenta también son útiles, ya que permiten optimizar las consultas individuales basadas únicamente en clientes o en cuentas, proporcionando flexibilidad y eficiencia en diversas operaciones de búsqueda y filtrado en la tabla."
   ]
  },
  {
   "cell_type": "markdown",
   "metadata": {},
   "source": [
    "### Pregunta 4"
   ]
  },
  {
   "cell_type": "markdown",
   "metadata": {},
   "source": [
    " ¿Cuál es la diferencia entre un Data Warehouse y un Data Mart? Si el jefe comercial de \n",
    "seguros le solicita un repositorio de datos, ¿cuál de estos 2 sería la mejor solución? Explique \n",
    "su razonamiento"
   ]
  },
  {
   "cell_type": "markdown",
   "metadata": {},
   "source": [
    "Para explicar la diferencia entre Data Warehouse y data mart tambien es necesario entender el concepto de data lake. Un data lake es toda la información cruda sin transformar. Un data Warehouse ya posee datos ordenados y estructurados y un data mart es ya una separación del data warehouse, donde encontraremos información especifica de un campo en concreto. Un ejemplo es que el data warehouse es un almacen con diferentes productos para tiendas, tales como Comidas, Bebidas, Ropa, Juguetes etc. Un data mart vendría a ser una tienda que vende unicamente ROPA que sale del data warehouse.\n",
    "\n",
    "Si el jefe comercial solicita un repositorio de datos, la respuesta correcta sería, que datos son los que necesita, ya que si es data que entra en una sola categoría, la respuesta sería un data mart."
   ]
  },
  {
   "cell_type": "markdown",
   "metadata": {},
   "source": [
    "### Pregunta 5"
   ]
  },
  {
   "cell_type": "markdown",
   "metadata": {},
   "source": [
    "Se tienen varios exceles con la información que se muestra a continuación. Sugiera qué estructura tiene que tener una base de datos de SQL que unifique todas estas tablas. Explique su razonamiento (puede apoyarse creando un prototipo de cómo será la base de datos resultante). Cada fin de mes se irán agregando registros nuevos. Aparte de los 3 ejemplos hay 27 tablas más para unificar"
   ]
  },
  {
   "cell_type": "code",
   "execution_count": 33,
   "metadata": {},
   "outputs": [],
   "source": [
    "bdp5_1 = pd.read_csv('./databases/p5/bdp5-1.csv')\n",
    "bdp5_2 = pd.read_csv('./databases/p5/bdp5-2.csv')\n",
    "bdp5_3 = pd.read_csv('./databases/p5/bdp5-3.csv')"
   ]
  },
  {
   "cell_type": "code",
   "execution_count": 34,
   "metadata": {},
   "outputs": [
    {
     "data": {
      "text/html": [
       "<div>\n",
       "<style scoped>\n",
       "    .dataframe tbody tr th:only-of-type {\n",
       "        vertical-align: middle;\n",
       "    }\n",
       "\n",
       "    .dataframe tbody tr th {\n",
       "        vertical-align: top;\n",
       "    }\n",
       "\n",
       "    .dataframe thead th {\n",
       "        text-align: right;\n",
       "    }\n",
       "</style>\n",
       "<table border=\"1\" class=\"dataframe\">\n",
       "  <thead>\n",
       "    <tr style=\"text-align: right;\">\n",
       "      <th></th>\n",
       "      <th>ID_Cliente</th>\n",
       "      <th>Fecha</th>\n",
       "      <th>Trx_total</th>\n",
       "    </tr>\n",
       "  </thead>\n",
       "  <tbody>\n",
       "    <tr>\n",
       "      <th>0</th>\n",
       "      <td>CLIENTE01</td>\n",
       "      <td>202012</td>\n",
       "      <td>447.96</td>\n",
       "    </tr>\n",
       "    <tr>\n",
       "      <th>1</th>\n",
       "      <td>CLIENTE02</td>\n",
       "      <td>202012</td>\n",
       "      <td>585.15</td>\n",
       "    </tr>\n",
       "    <tr>\n",
       "      <th>2</th>\n",
       "      <td>CLIENTE03</td>\n",
       "      <td>202012</td>\n",
       "      <td>560.09</td>\n",
       "    </tr>\n",
       "    <tr>\n",
       "      <th>3</th>\n",
       "      <td>CLIENTE04</td>\n",
       "      <td>202012</td>\n",
       "      <td>79.03</td>\n",
       "    </tr>\n",
       "    <tr>\n",
       "      <th>4</th>\n",
       "      <td>CLIENTE05</td>\n",
       "      <td>202012</td>\n",
       "      <td>226.61</td>\n",
       "    </tr>\n",
       "    <tr>\n",
       "      <th>5</th>\n",
       "      <td>CLIENTE06</td>\n",
       "      <td>202012</td>\n",
       "      <td>250.05</td>\n",
       "    </tr>\n",
       "    <tr>\n",
       "      <th>6</th>\n",
       "      <td>CLIENTE07</td>\n",
       "      <td>202012</td>\n",
       "      <td>294.66</td>\n",
       "    </tr>\n",
       "    <tr>\n",
       "      <th>7</th>\n",
       "      <td>CLIENTE08</td>\n",
       "      <td>202012</td>\n",
       "      <td>293.62</td>\n",
       "    </tr>\n",
       "    <tr>\n",
       "      <th>8</th>\n",
       "      <td>CLIENTE09</td>\n",
       "      <td>202012</td>\n",
       "      <td>425.01</td>\n",
       "    </tr>\n",
       "    <tr>\n",
       "      <th>9</th>\n",
       "      <td>CLIENTE10</td>\n",
       "      <td>202012</td>\n",
       "      <td>447.77</td>\n",
       "    </tr>\n",
       "  </tbody>\n",
       "</table>\n",
       "</div>"
      ],
      "text/plain": [
       "  ID_Cliente   Fecha  Trx_total\n",
       "0  CLIENTE01  202012     447.96\n",
       "1  CLIENTE02  202012     585.15\n",
       "2  CLIENTE03  202012     560.09\n",
       "3  CLIENTE04  202012      79.03\n",
       "4  CLIENTE05  202012     226.61\n",
       "5  CLIENTE06  202012     250.05\n",
       "6  CLIENTE07  202012     294.66\n",
       "7  CLIENTE08  202012     293.62\n",
       "8  CLIENTE09  202012     425.01\n",
       "9  CLIENTE10  202012     447.77"
      ]
     },
     "execution_count": 34,
     "metadata": {},
     "output_type": "execute_result"
    }
   ],
   "source": [
    "bdp5_1"
   ]
  },
  {
   "cell_type": "code",
   "execution_count": 35,
   "metadata": {},
   "outputs": [
    {
     "data": {
      "text/html": [
       "<div>\n",
       "<style scoped>\n",
       "    .dataframe tbody tr th:only-of-type {\n",
       "        vertical-align: middle;\n",
       "    }\n",
       "\n",
       "    .dataframe tbody tr th {\n",
       "        vertical-align: top;\n",
       "    }\n",
       "\n",
       "    .dataframe thead th {\n",
       "        text-align: right;\n",
       "    }\n",
       "</style>\n",
       "<table border=\"1\" class=\"dataframe\">\n",
       "  <thead>\n",
       "    <tr style=\"text-align: right;\">\n",
       "      <th></th>\n",
       "      <th>ID_Cliente</th>\n",
       "      <th>Fecha</th>\n",
       "      <th>Trx_total</th>\n",
       "    </tr>\n",
       "  </thead>\n",
       "  <tbody>\n",
       "    <tr>\n",
       "      <th>0</th>\n",
       "      <td>CLIENTE01</td>\n",
       "      <td>202101</td>\n",
       "      <td>494.87</td>\n",
       "    </tr>\n",
       "    <tr>\n",
       "      <th>1</th>\n",
       "      <td>CLIENTE03</td>\n",
       "      <td>202101</td>\n",
       "      <td>649.52</td>\n",
       "    </tr>\n",
       "    <tr>\n",
       "      <th>2</th>\n",
       "      <td>CLIENTE05</td>\n",
       "      <td>202101</td>\n",
       "      <td>531.75</td>\n",
       "    </tr>\n",
       "    <tr>\n",
       "      <th>3</th>\n",
       "      <td>CLIENTE06</td>\n",
       "      <td>202101</td>\n",
       "      <td>3.98</td>\n",
       "    </tr>\n",
       "    <tr>\n",
       "      <th>4</th>\n",
       "      <td>CLIENTE08</td>\n",
       "      <td>202101</td>\n",
       "      <td>499.74</td>\n",
       "    </tr>\n",
       "    <tr>\n",
       "      <th>5</th>\n",
       "      <td>CLIENTE09</td>\n",
       "      <td>202101</td>\n",
       "      <td>26.11</td>\n",
       "    </tr>\n",
       "    <tr>\n",
       "      <th>6</th>\n",
       "      <td>CLIENTE10</td>\n",
       "      <td>202101</td>\n",
       "      <td>939.41</td>\n",
       "    </tr>\n",
       "    <tr>\n",
       "      <th>7</th>\n",
       "      <td>CLIENTE14</td>\n",
       "      <td>202101</td>\n",
       "      <td>278.27</td>\n",
       "    </tr>\n",
       "    <tr>\n",
       "      <th>8</th>\n",
       "      <td>CLIENTE22</td>\n",
       "      <td>202101</td>\n",
       "      <td>28.83</td>\n",
       "    </tr>\n",
       "    <tr>\n",
       "      <th>9</th>\n",
       "      <td>CLIENTE77</td>\n",
       "      <td>202101</td>\n",
       "      <td>613.60</td>\n",
       "    </tr>\n",
       "  </tbody>\n",
       "</table>\n",
       "</div>"
      ],
      "text/plain": [
       "  ID_Cliente   Fecha  Trx_total\n",
       "0  CLIENTE01  202101     494.87\n",
       "1  CLIENTE03  202101     649.52\n",
       "2  CLIENTE05  202101     531.75\n",
       "3  CLIENTE06  202101       3.98\n",
       "4  CLIENTE08  202101     499.74\n",
       "5  CLIENTE09  202101      26.11\n",
       "6  CLIENTE10  202101     939.41\n",
       "7  CLIENTE14  202101     278.27\n",
       "8  CLIENTE22  202101      28.83\n",
       "9  CLIENTE77  202101     613.60"
      ]
     },
     "execution_count": 35,
     "metadata": {},
     "output_type": "execute_result"
    }
   ],
   "source": [
    "bdp5_2"
   ]
  },
  {
   "cell_type": "code",
   "execution_count": 36,
   "metadata": {},
   "outputs": [
    {
     "data": {
      "text/html": [
       "<div>\n",
       "<style scoped>\n",
       "    .dataframe tbody tr th:only-of-type {\n",
       "        vertical-align: middle;\n",
       "    }\n",
       "\n",
       "    .dataframe tbody tr th {\n",
       "        vertical-align: top;\n",
       "    }\n",
       "\n",
       "    .dataframe thead th {\n",
       "        text-align: right;\n",
       "    }\n",
       "</style>\n",
       "<table border=\"1\" class=\"dataframe\">\n",
       "  <thead>\n",
       "    <tr style=\"text-align: right;\">\n",
       "      <th></th>\n",
       "      <th>ID_Cliente</th>\n",
       "      <th>Fecha</th>\n",
       "      <th>Trx_total</th>\n",
       "    </tr>\n",
       "  </thead>\n",
       "  <tbody>\n",
       "    <tr>\n",
       "      <th>0</th>\n",
       "      <td>CLIENTE01</td>\n",
       "      <td>202102</td>\n",
       "      <td>494.87</td>\n",
       "    </tr>\n",
       "    <tr>\n",
       "      <th>1</th>\n",
       "      <td>CLIENTE03</td>\n",
       "      <td>202102</td>\n",
       "      <td>278.27</td>\n",
       "    </tr>\n",
       "    <tr>\n",
       "      <th>2</th>\n",
       "      <td>CLIENTE04</td>\n",
       "      <td>202102</td>\n",
       "      <td>531.75</td>\n",
       "    </tr>\n",
       "    <tr>\n",
       "      <th>3</th>\n",
       "      <td>CLIENTE05</td>\n",
       "      <td>202102</td>\n",
       "      <td>3.98</td>\n",
       "    </tr>\n",
       "    <tr>\n",
       "      <th>4</th>\n",
       "      <td>CLIENTE07</td>\n",
       "      <td>202102</td>\n",
       "      <td>499.74</td>\n",
       "    </tr>\n",
       "    <tr>\n",
       "      <th>5</th>\n",
       "      <td>CLIENTE08</td>\n",
       "      <td>202102</td>\n",
       "      <td>26.11</td>\n",
       "    </tr>\n",
       "    <tr>\n",
       "      <th>6</th>\n",
       "      <td>CLIENTE09</td>\n",
       "      <td>202102</td>\n",
       "      <td>939.41</td>\n",
       "    </tr>\n",
       "    <tr>\n",
       "      <th>7</th>\n",
       "      <td>CLIENTE11</td>\n",
       "      <td>202102</td>\n",
       "      <td>28.83</td>\n",
       "    </tr>\n",
       "    <tr>\n",
       "      <th>8</th>\n",
       "      <td>CLIENTE23</td>\n",
       "      <td>202102</td>\n",
       "      <td>649.52</td>\n",
       "    </tr>\n",
       "    <tr>\n",
       "      <th>9</th>\n",
       "      <td>CLIENTE62</td>\n",
       "      <td>202102</td>\n",
       "      <td>613.60</td>\n",
       "    </tr>\n",
       "  </tbody>\n",
       "</table>\n",
       "</div>"
      ],
      "text/plain": [
       "  ID_Cliente   Fecha  Trx_total\n",
       "0  CLIENTE01  202102     494.87\n",
       "1  CLIENTE03  202102     278.27\n",
       "2  CLIENTE04  202102     531.75\n",
       "3  CLIENTE05  202102       3.98\n",
       "4  CLIENTE07  202102     499.74\n",
       "5  CLIENTE08  202102      26.11\n",
       "6  CLIENTE09  202102     939.41\n",
       "7  CLIENTE11  202102      28.83\n",
       "8  CLIENTE23  202102     649.52\n",
       "9  CLIENTE62  202102     613.60"
      ]
     },
     "execution_count": 36,
     "metadata": {},
     "output_type": "execute_result"
    }
   ],
   "source": [
    "bdp5_3"
   ]
  },
  {
   "cell_type": "markdown",
   "metadata": {},
   "source": [
    "Debido a que los datos son los mismos en todas las tablas, lo mejor sería centralizar esos datos en una sola tabla. De esta manera podremos tener centralizados los datos y al momento de hacer una consulta de transacciones tendremos la data en un solo lugar"
   ]
  },
  {
   "cell_type": "code",
   "execution_count": 77,
   "metadata": {
    "vscode": {
     "languageId": "sql"
    }
   },
   "outputs": [
    {
     "name": "stdout",
     "output_type": "stream",
     "text": [
      "Couldn't find program: 'false'\n"
     ]
    }
   ],
   "source": [
    "%%script false --no-raise-error\n",
    "\n",
    "CREATE TABLE Transactions  (\n",
    "    ID_Transaccion SERIAL PRIMARY KEY, # Ya que es Primary key, ya es un campo indexado\n",
    "    ID_Cliente varchar(10) NOT NULL, # asume que el ID del cliente es un string UUID o bien cambiarlo a INT de ser necesario \n",
    "    fecha DATE NOT NULL,\n",
    "    Trx_total DECIMAL(10, 2) NOT NULL,\n",
    "    FOREIGN KEY (ID_Cliente) REFERENCES Clientes(id)\n",
    ");"
   ]
  },
  {
   "cell_type": "markdown",
   "metadata": {},
   "source": [
    "### Pregunta 6"
   ]
  },
  {
   "cell_type": "markdown",
   "metadata": {},
   "source": [
    "Considere la base de datos que se muestra a continuación. A esta base de datos se le hizo una tabla índice con las siguientes variables: V1 y V2 pero no está funcionando como se esperaba. Encuentre el error."
   ]
  },
  {
   "cell_type": "code",
   "execution_count": 67,
   "metadata": {},
   "outputs": [
    {
     "data": {
      "text/html": [
       "<div>\n",
       "<style scoped>\n",
       "    .dataframe tbody tr th:only-of-type {\n",
       "        vertical-align: middle;\n",
       "    }\n",
       "\n",
       "    .dataframe tbody tr th {\n",
       "        vertical-align: top;\n",
       "    }\n",
       "\n",
       "    .dataframe thead th {\n",
       "        text-align: right;\n",
       "    }\n",
       "</style>\n",
       "<table border=\"1\" class=\"dataframe\">\n",
       "  <thead>\n",
       "    <tr style=\"text-align: right;\">\n",
       "      <th></th>\n",
       "      <th>V1</th>\n",
       "      <th>V2</th>\n",
       "      <th>V3</th>\n",
       "      <th>V4</th>\n",
       "      <th>V5</th>\n",
       "    </tr>\n",
       "  </thead>\n",
       "  <tbody>\n",
       "    <tr>\n",
       "      <th>0</th>\n",
       "      <td>202001</td>\n",
       "      <td>Z</td>\n",
       "      <td>628.96</td>\n",
       "      <td>203.89</td>\n",
       "      <td>0.22</td>\n",
       "    </tr>\n",
       "    <tr>\n",
       "      <th>1</th>\n",
       "      <td>202001</td>\n",
       "      <td>Y</td>\n",
       "      <td>407.45</td>\n",
       "      <td>187.96</td>\n",
       "      <td>0.60</td>\n",
       "    </tr>\n",
       "    <tr>\n",
       "      <th>2</th>\n",
       "      <td>202001</td>\n",
       "      <td>X</td>\n",
       "      <td>23.29</td>\n",
       "      <td>91.17</td>\n",
       "      <td>0.86</td>\n",
       "    </tr>\n",
       "    <tr>\n",
       "      <th>3</th>\n",
       "      <td>202005</td>\n",
       "      <td>X</td>\n",
       "      <td>86.49</td>\n",
       "      <td>150.19</td>\n",
       "      <td>0.47</td>\n",
       "    </tr>\n",
       "    <tr>\n",
       "      <th>4</th>\n",
       "      <td>202005</td>\n",
       "      <td>Y</td>\n",
       "      <td>576.18</td>\n",
       "      <td>55.58</td>\n",
       "      <td>0.89</td>\n",
       "    </tr>\n",
       "    <tr>\n",
       "      <th>5</th>\n",
       "      <td>202005</td>\n",
       "      <td>Z</td>\n",
       "      <td>40.32</td>\n",
       "      <td>22.65</td>\n",
       "      <td>0.88</td>\n",
       "    </tr>\n",
       "    <tr>\n",
       "      <th>6</th>\n",
       "      <td>202101</td>\n",
       "      <td>Z</td>\n",
       "      <td>37.19</td>\n",
       "      <td>8.36</td>\n",
       "      <td>0.59</td>\n",
       "    </tr>\n",
       "    <tr>\n",
       "      <th>7</th>\n",
       "      <td>202101</td>\n",
       "      <td>Y</td>\n",
       "      <td>179.92</td>\n",
       "      <td>134.58</td>\n",
       "      <td>0.23</td>\n",
       "    </tr>\n",
       "    <tr>\n",
       "      <th>8</th>\n",
       "      <td>202101</td>\n",
       "      <td>X</td>\n",
       "      <td>109.67</td>\n",
       "      <td>25.65</td>\n",
       "      <td>0.40</td>\n",
       "    </tr>\n",
       "    <tr>\n",
       "      <th>9</th>\n",
       "      <td>201911</td>\n",
       "      <td>X</td>\n",
       "      <td>365.30</td>\n",
       "      <td>28.64</td>\n",
       "      <td>0.82</td>\n",
       "    </tr>\n",
       "    <tr>\n",
       "      <th>10</th>\n",
       "      <td>201911</td>\n",
       "      <td>Y</td>\n",
       "      <td>259.54</td>\n",
       "      <td>208.05</td>\n",
       "      <td>0.38</td>\n",
       "    </tr>\n",
       "    <tr>\n",
       "      <th>11</th>\n",
       "      <td>201911</td>\n",
       "      <td>Z</td>\n",
       "      <td>812.41</td>\n",
       "      <td>169.31</td>\n",
       "      <td>0.09</td>\n",
       "    </tr>\n",
       "    <tr>\n",
       "      <th>12</th>\n",
       "      <td>202102</td>\n",
       "      <td>X</td>\n",
       "      <td>414.65</td>\n",
       "      <td>196.99</td>\n",
       "      <td>0.26</td>\n",
       "    </tr>\n",
       "    <tr>\n",
       "      <th>13</th>\n",
       "      <td>202102</td>\n",
       "      <td>Y</td>\n",
       "      <td>439.23</td>\n",
       "      <td>147.63</td>\n",
       "      <td>0.94</td>\n",
       "    </tr>\n",
       "    <tr>\n",
       "      <th>14</th>\n",
       "      <td>202102</td>\n",
       "      <td>Z</td>\n",
       "      <td>100.51</td>\n",
       "      <td>129.22</td>\n",
       "      <td>0.57</td>\n",
       "    </tr>\n",
       "    <tr>\n",
       "      <th>15</th>\n",
       "      <td>202103</td>\n",
       "      <td>X</td>\n",
       "      <td>184.81</td>\n",
       "      <td>79.09</td>\n",
       "      <td>0.59</td>\n",
       "    </tr>\n",
       "    <tr>\n",
       "      <th>16</th>\n",
       "      <td>202103</td>\n",
       "      <td>Y</td>\n",
       "      <td>946.74</td>\n",
       "      <td>183.17</td>\n",
       "      <td>0.91</td>\n",
       "    </tr>\n",
       "    <tr>\n",
       "      <th>17</th>\n",
       "      <td>202103</td>\n",
       "      <td>Z</td>\n",
       "      <td>645.04</td>\n",
       "      <td>58.19</td>\n",
       "      <td>0.10</td>\n",
       "    </tr>\n",
       "  </tbody>\n",
       "</table>\n",
       "</div>"
      ],
      "text/plain": [
       "        V1 V2      V3      V4    V5\n",
       "0   202001  Z  628.96  203.89  0.22\n",
       "1   202001  Y  407.45  187.96  0.60\n",
       "2   202001  X   23.29   91.17  0.86\n",
       "3   202005  X   86.49  150.19  0.47\n",
       "4   202005  Y  576.18   55.58  0.89\n",
       "5   202005  Z   40.32   22.65  0.88\n",
       "6   202101  Z   37.19    8.36  0.59\n",
       "7   202101  Y  179.92  134.58  0.23\n",
       "8   202101  X  109.67   25.65  0.40\n",
       "9   201911  X  365.30   28.64  0.82\n",
       "10  201911  Y  259.54  208.05  0.38\n",
       "11  201911  Z  812.41  169.31  0.09\n",
       "12  202102  X  414.65  196.99  0.26\n",
       "13  202102  Y  439.23  147.63  0.94\n",
       "14  202102  Z  100.51  129.22  0.57\n",
       "15  202103  X  184.81   79.09  0.59\n",
       "16  202103  Y  946.74  183.17  0.91\n",
       "17  202103  Z  645.04   58.19  0.10"
      ]
     },
     "execution_count": 67,
     "metadata": {},
     "output_type": "execute_result"
    }
   ],
   "source": [
    "dbp6 = pd.read_csv('./databases/p6/dbp6.csv')\n",
    "dbp6"
   ]
  },
  {
   "cell_type": "markdown",
   "metadata": {},
   "source": [
    "Si la tabla índice no está correctamente ordenada por las columnas V1 y V2, las búsquedas pueden ser ineficientes."
   ]
  },
  {
   "cell_type": "markdown",
   "metadata": {},
   "source": [
    "### Pregunta 7"
   ]
  },
  {
   "cell_type": "markdown",
   "metadata": {},
   "source": [
    "Se tienen las 2 bases de datos que se muestran a continuación. A la base de datos A se le quiere agregar un campo que se encuentra en la tabla B. Sugiera 2 formas de hacer esta operación, una usando joins y la otra sin usarlos"
   ]
  },
  {
   "cell_type": "code",
   "execution_count": 38,
   "metadata": {},
   "outputs": [],
   "source": [
    "bdp7_1 = pd.read_csv('./databases/p7/bdp7-1.csv')\n",
    "bdp7_2 = pd.read_csv('./databases/p7/bdp7-2.csv')"
   ]
  },
  {
   "cell_type": "code",
   "execution_count": 68,
   "metadata": {},
   "outputs": [
    {
     "data": {
      "text/html": [
       "<div>\n",
       "<style scoped>\n",
       "    .dataframe tbody tr th:only-of-type {\n",
       "        vertical-align: middle;\n",
       "    }\n",
       "\n",
       "    .dataframe tbody tr th {\n",
       "        vertical-align: top;\n",
       "    }\n",
       "\n",
       "    .dataframe thead th {\n",
       "        text-align: right;\n",
       "    }\n",
       "</style>\n",
       "<table border=\"1\" class=\"dataframe\">\n",
       "  <thead>\n",
       "    <tr style=\"text-align: right;\">\n",
       "      <th></th>\n",
       "      <th>Cliente_ID</th>\n",
       "      <th>Tipo_cliente</th>\n",
       "      <th>Cant_cuentas</th>\n",
       "    </tr>\n",
       "  </thead>\n",
       "  <tbody>\n",
       "    <tr>\n",
       "      <th>0</th>\n",
       "      <td>CLIENTE01</td>\n",
       "      <td>CRE</td>\n",
       "      <td>1</td>\n",
       "    </tr>\n",
       "    <tr>\n",
       "      <th>1</th>\n",
       "      <td>CLIENTE02</td>\n",
       "      <td>CRE</td>\n",
       "      <td>2</td>\n",
       "    </tr>\n",
       "    <tr>\n",
       "      <th>2</th>\n",
       "      <td>CLIENTE03</td>\n",
       "      <td>CRE</td>\n",
       "      <td>3</td>\n",
       "    </tr>\n",
       "    <tr>\n",
       "      <th>3</th>\n",
       "      <td>CLIENTE04</td>\n",
       "      <td>CRE</td>\n",
       "      <td>1</td>\n",
       "    </tr>\n",
       "    <tr>\n",
       "      <th>4</th>\n",
       "      <td>CLIENTE05</td>\n",
       "      <td>CRE</td>\n",
       "      <td>2</td>\n",
       "    </tr>\n",
       "    <tr>\n",
       "      <th>5</th>\n",
       "      <td>CLIENTE06</td>\n",
       "      <td>CRE</td>\n",
       "      <td>2</td>\n",
       "    </tr>\n",
       "    <tr>\n",
       "      <th>6</th>\n",
       "      <td>CLIENTE07</td>\n",
       "      <td>CRE</td>\n",
       "      <td>3</td>\n",
       "    </tr>\n",
       "    <tr>\n",
       "      <th>7</th>\n",
       "      <td>CLIENTE08</td>\n",
       "      <td>CRE</td>\n",
       "      <td>1</td>\n",
       "    </tr>\n",
       "    <tr>\n",
       "      <th>8</th>\n",
       "      <td>CLIENTE09</td>\n",
       "      <td>CRE</td>\n",
       "      <td>4</td>\n",
       "    </tr>\n",
       "    <tr>\n",
       "      <th>9</th>\n",
       "      <td>CLIENTE10</td>\n",
       "      <td>CRE</td>\n",
       "      <td>1</td>\n",
       "    </tr>\n",
       "    <tr>\n",
       "      <th>10</th>\n",
       "      <td>CLIENTE11</td>\n",
       "      <td>CRE</td>\n",
       "      <td>1</td>\n",
       "    </tr>\n",
       "    <tr>\n",
       "      <th>11</th>\n",
       "      <td>CLIENTE12</td>\n",
       "      <td>CRE</td>\n",
       "      <td>2</td>\n",
       "    </tr>\n",
       "    <tr>\n",
       "      <th>12</th>\n",
       "      <td>CLIENTE13</td>\n",
       "      <td>CRE</td>\n",
       "      <td>1</td>\n",
       "    </tr>\n",
       "    <tr>\n",
       "      <th>13</th>\n",
       "      <td>CLIENTE14</td>\n",
       "      <td>CRE</td>\n",
       "      <td>2</td>\n",
       "    </tr>\n",
       "  </tbody>\n",
       "</table>\n",
       "</div>"
      ],
      "text/plain": [
       "   Cliente_ID Tipo_cliente  Cant_cuentas\n",
       "0   CLIENTE01          CRE             1\n",
       "1   CLIENTE02          CRE             2\n",
       "2   CLIENTE03          CRE             3\n",
       "3   CLIENTE04          CRE             1\n",
       "4   CLIENTE05          CRE             2\n",
       "5   CLIENTE06          CRE             2\n",
       "6   CLIENTE07          CRE             3\n",
       "7   CLIENTE08          CRE             1\n",
       "8   CLIENTE09          CRE             4\n",
       "9   CLIENTE10          CRE             1\n",
       "10  CLIENTE11          CRE             1\n",
       "11  CLIENTE12          CRE             2\n",
       "12  CLIENTE13          CRE             1\n",
       "13  CLIENTE14          CRE             2"
      ]
     },
     "execution_count": 68,
     "metadata": {},
     "output_type": "execute_result"
    }
   ],
   "source": [
    "bdp7_1"
   ]
  },
  {
   "cell_type": "code",
   "execution_count": 69,
   "metadata": {},
   "outputs": [
    {
     "data": {
      "text/html": [
       "<div>\n",
       "<style scoped>\n",
       "    .dataframe tbody tr th:only-of-type {\n",
       "        vertical-align: middle;\n",
       "    }\n",
       "\n",
       "    .dataframe tbody tr th {\n",
       "        vertical-align: top;\n",
       "    }\n",
       "\n",
       "    .dataframe thead th {\n",
       "        text-align: right;\n",
       "    }\n",
       "</style>\n",
       "<table border=\"1\" class=\"dataframe\">\n",
       "  <thead>\n",
       "    <tr style=\"text-align: right;\">\n",
       "      <th></th>\n",
       "      <th>Cliente_ID</th>\n",
       "      <th>Facturacion</th>\n",
       "    </tr>\n",
       "  </thead>\n",
       "  <tbody>\n",
       "    <tr>\n",
       "      <th>0</th>\n",
       "      <td>CLIENTE01</td>\n",
       "      <td>147.02</td>\n",
       "    </tr>\n",
       "    <tr>\n",
       "      <th>1</th>\n",
       "      <td>CLIENTE02</td>\n",
       "      <td>215.09</td>\n",
       "    </tr>\n",
       "    <tr>\n",
       "      <th>2</th>\n",
       "      <td>CLIENTE03</td>\n",
       "      <td>711.89</td>\n",
       "    </tr>\n",
       "    <tr>\n",
       "      <th>3</th>\n",
       "      <td>CLIENTE04</td>\n",
       "      <td>672.37</td>\n",
       "    </tr>\n",
       "    <tr>\n",
       "      <th>4</th>\n",
       "      <td>CLIENTE05</td>\n",
       "      <td>596.86</td>\n",
       "    </tr>\n",
       "    <tr>\n",
       "      <th>5</th>\n",
       "      <td>CLIENTE06</td>\n",
       "      <td>658.09</td>\n",
       "    </tr>\n",
       "    <tr>\n",
       "      <th>6</th>\n",
       "      <td>CLIENTE07</td>\n",
       "      <td>554.31</td>\n",
       "    </tr>\n",
       "    <tr>\n",
       "      <th>7</th>\n",
       "      <td>CLIENTE08</td>\n",
       "      <td>394.17</td>\n",
       "    </tr>\n",
       "    <tr>\n",
       "      <th>8</th>\n",
       "      <td>CLIENTE09</td>\n",
       "      <td>433.99</td>\n",
       "    </tr>\n",
       "    <tr>\n",
       "      <th>9</th>\n",
       "      <td>CLIENTE10</td>\n",
       "      <td>961.11</td>\n",
       "    </tr>\n",
       "    <tr>\n",
       "      <th>10</th>\n",
       "      <td>CLIENTE11</td>\n",
       "      <td>274.90</td>\n",
       "    </tr>\n",
       "    <tr>\n",
       "      <th>11</th>\n",
       "      <td>CLIENTE12</td>\n",
       "      <td>455.11</td>\n",
       "    </tr>\n",
       "    <tr>\n",
       "      <th>12</th>\n",
       "      <td>CLIENTE13</td>\n",
       "      <td>689.29</td>\n",
       "    </tr>\n",
       "    <tr>\n",
       "      <th>13</th>\n",
       "      <td>CLIENTE14</td>\n",
       "      <td>498.56</td>\n",
       "    </tr>\n",
       "  </tbody>\n",
       "</table>\n",
       "</div>"
      ],
      "text/plain": [
       "   Cliente_ID  Facturacion\n",
       "0   CLIENTE01       147.02\n",
       "1   CLIENTE02       215.09\n",
       "2   CLIENTE03       711.89\n",
       "3   CLIENTE04       672.37\n",
       "4   CLIENTE05       596.86\n",
       "5   CLIENTE06       658.09\n",
       "6   CLIENTE07       554.31\n",
       "7   CLIENTE08       394.17\n",
       "8   CLIENTE09       433.99\n",
       "9   CLIENTE10       961.11\n",
       "10  CLIENTE11       274.90\n",
       "11  CLIENTE12       455.11\n",
       "12  CLIENTE13       689.29\n",
       "13  CLIENTE14       498.56"
      ]
     },
     "execution_count": 69,
     "metadata": {},
     "output_type": "execute_result"
    }
   ],
   "source": [
    "bdp7_2"
   ]
  },
  {
   "cell_type": "markdown",
   "metadata": {},
   "source": [
    "### USANDO JOIN"
   ]
  },
  {
   "cell_type": "code",
   "execution_count": 80,
   "metadata": {
    "vscode": {
     "languageId": "sql"
    }
   },
   "outputs": [
    {
     "name": "stdout",
     "output_type": "stream",
     "text": [
      "Couldn't find program: 'false'\n"
     ]
    }
   ],
   "source": [
    "%%script false --no-raise-error\n",
    "SELECT d1.cliente_id, d1.tipo_cliente, d1.cant_cuentas, d2.facturacion\n",
    "    FROM bdp7_1 as d1\n",
    "        INNER JOIN bdp7_2 as d2\n",
    "            ON d1.cliente_id = d2.cliente_id;"
   ]
  },
  {
   "cell_type": "code",
   "execution_count": 39,
   "metadata": {},
   "outputs": [
    {
     "name": "stdout",
     "output_type": "stream",
     "text": [
      "   Cliente_ID Tipo_cliente  Cant_cuentas  Facturacion\n",
      "0   CLIENTE01          CRE             1       147.02\n",
      "1   CLIENTE02          CRE             2       215.09\n",
      "2   CLIENTE03          CRE             3       711.89\n",
      "3   CLIENTE04          CRE             1       672.37\n",
      "4   CLIENTE05          CRE             2       596.86\n",
      "5   CLIENTE06          CRE             2       658.09\n",
      "6   CLIENTE07          CRE             3       554.31\n",
      "7   CLIENTE08          CRE             1       394.17\n",
      "8   CLIENTE09          CRE             4       433.99\n",
      "9   CLIENTE10          CRE             1       961.11\n",
      "10  CLIENTE11          CRE             1       274.90\n",
      "11  CLIENTE12          CRE             2       455.11\n",
      "12  CLIENTE13          CRE             1       689.29\n",
      "13  CLIENTE14          CRE             2       498.56\n"
     ]
    }
   ],
   "source": [
    "print(sqldf('''\n",
    "        SELECT d1.cliente_id, d1.tipo_cliente, d1.cant_cuentas, d2.facturacion\n",
    "        FROM bdp7_1 as d1\n",
    "        INNER JOIN bdp7_2 as d2\n",
    "            ON d1.cliente_id = d2.cliente_id;\n",
    " '''))"
   ]
  },
  {
   "cell_type": "markdown",
   "metadata": {},
   "source": [
    "### SIN USAR JOINS"
   ]
  },
  {
   "cell_type": "code",
   "execution_count": 81,
   "metadata": {
    "vscode": {
     "languageId": "sql"
    }
   },
   "outputs": [
    {
     "name": "stdout",
     "output_type": "stream",
     "text": [
      "Couldn't find program: 'false'\n"
     ]
    }
   ],
   "source": [
    "%%script false --no-raise-error\n",
    "SELECT \n",
    "    d1.cliente_id, \n",
    "    d1.tipo_cliente, \n",
    "    d1.cant_cuentas, \n",
    "        (SELECT d2.facturacion \n",
    "            FROM bdp7_2 AS d2 \n",
    "            WHERE d2.cliente_id = d1.cliente_id) AS facturacion\n",
    "    FROM bdp7_1 AS d1;"
   ]
  },
  {
   "cell_type": "code",
   "execution_count": 40,
   "metadata": {},
   "outputs": [
    {
     "name": "stdout",
     "output_type": "stream",
     "text": [
      "   Cliente_ID Tipo_cliente  Cant_cuentas  facturacion\n",
      "0   CLIENTE01          CRE             1       147.02\n",
      "1   CLIENTE02          CRE             2       215.09\n",
      "2   CLIENTE03          CRE             3       711.89\n",
      "3   CLIENTE04          CRE             1       672.37\n",
      "4   CLIENTE05          CRE             2       596.86\n",
      "5   CLIENTE06          CRE             2       658.09\n",
      "6   CLIENTE07          CRE             3       554.31\n",
      "7   CLIENTE08          CRE             1       394.17\n",
      "8   CLIENTE09          CRE             4       433.99\n",
      "9   CLIENTE10          CRE             1       961.11\n",
      "10  CLIENTE11          CRE             1       274.90\n",
      "11  CLIENTE12          CRE             2       455.11\n",
      "12  CLIENTE13          CRE             1       689.29\n",
      "13  CLIENTE14          CRE             2       498.56\n"
     ]
    }
   ],
   "source": [
    "print(sqldf(''' \n",
    "    SELECT \n",
    "        d1.cliente_id, \n",
    "        d1.tipo_cliente, \n",
    "        d1.cant_cuentas, \n",
    "            (SELECT d2.facturacion \n",
    "            FROM bdp7_2 AS d2 \n",
    "            WHERE d2.cliente_id = d1.cliente_id) AS facturacion\n",
    "    FROM bdp7_1 AS d1;\n",
    "    '''))"
   ]
  },
  {
   "cell_type": "markdown",
   "metadata": {},
   "source": [
    "### Pregunta 8"
   ]
  },
  {
   "cell_type": "markdown",
   "metadata": {},
   "source": [
    "Se tienen las siguientes 3 bases de datos. Escriba el código SQL que va a permitir tener en una sola tabla la información de Cuenta, plan de lealtad, calificación por mes y facturación total (por mes). Trate de hacer el query lo más eficiente posible"
   ]
  },
  {
   "cell_type": "code",
   "execution_count": 41,
   "metadata": {},
   "outputs": [],
   "source": [
    "dbp8_1 = pd.read_csv('./databases/p8/bdp8-1.csv')\n",
    "dbp8_2 = pd.read_csv('./databases/p8/bdp8-2.csv')"
   ]
  },
  {
   "cell_type": "code",
   "execution_count": 42,
   "metadata": {},
   "outputs": [
    {
     "data": {
      "text/html": [
       "<div>\n",
       "<style scoped>\n",
       "    .dataframe tbody tr th:only-of-type {\n",
       "        vertical-align: middle;\n",
       "    }\n",
       "\n",
       "    .dataframe tbody tr th {\n",
       "        vertical-align: top;\n",
       "    }\n",
       "\n",
       "    .dataframe thead th {\n",
       "        text-align: right;\n",
       "    }\n",
       "</style>\n",
       "<table border=\"1\" class=\"dataframe\">\n",
       "  <thead>\n",
       "    <tr style=\"text-align: right;\">\n",
       "      <th></th>\n",
       "      <th>Cuenta</th>\n",
       "      <th>Plan_lealtad</th>\n",
       "    </tr>\n",
       "  </thead>\n",
       "  <tbody>\n",
       "    <tr>\n",
       "      <th>0</th>\n",
       "      <td>1</td>\n",
       "      <td>MillasPlus</td>\n",
       "    </tr>\n",
       "    <tr>\n",
       "      <th>1</th>\n",
       "      <td>2</td>\n",
       "      <td>Cashback</td>\n",
       "    </tr>\n",
       "    <tr>\n",
       "      <th>2</th>\n",
       "      <td>3</td>\n",
       "      <td>Cashback</td>\n",
       "    </tr>\n",
       "    <tr>\n",
       "      <th>3</th>\n",
       "      <td>4</td>\n",
       "      <td>MillasPlus</td>\n",
       "    </tr>\n",
       "    <tr>\n",
       "      <th>4</th>\n",
       "      <td>5</td>\n",
       "      <td>MillasPlus</td>\n",
       "    </tr>\n",
       "    <tr>\n",
       "      <th>5</th>\n",
       "      <td>6</td>\n",
       "      <td>Cashback</td>\n",
       "    </tr>\n",
       "  </tbody>\n",
       "</table>\n",
       "</div>"
      ],
      "text/plain": [
       "   Cuenta Plan_lealtad\n",
       "0       1   MillasPlus\n",
       "1       2     Cashback\n",
       "2       3     Cashback\n",
       "3       4   MillasPlus\n",
       "4       5   MillasPlus\n",
       "5       6     Cashback"
      ]
     },
     "execution_count": 42,
     "metadata": {},
     "output_type": "execute_result"
    }
   ],
   "source": [
    "dbp8_1"
   ]
  },
  {
   "cell_type": "code",
   "execution_count": 70,
   "metadata": {},
   "outputs": [
    {
     "data": {
      "text/html": [
       "<div>\n",
       "<style scoped>\n",
       "    .dataframe tbody tr th:only-of-type {\n",
       "        vertical-align: middle;\n",
       "    }\n",
       "\n",
       "    .dataframe tbody tr th {\n",
       "        vertical-align: top;\n",
       "    }\n",
       "\n",
       "    .dataframe thead th {\n",
       "        text-align: right;\n",
       "    }\n",
       "</style>\n",
       "<table border=\"1\" class=\"dataframe\">\n",
       "  <thead>\n",
       "    <tr style=\"text-align: right;\">\n",
       "      <th></th>\n",
       "      <th>Cuenta</th>\n",
       "      <th>Fecha</th>\n",
       "      <th>Calificacion</th>\n",
       "    </tr>\n",
       "  </thead>\n",
       "  <tbody>\n",
       "    <tr>\n",
       "      <th>0</th>\n",
       "      <td>1</td>\n",
       "      <td>202101</td>\n",
       "      <td>A</td>\n",
       "    </tr>\n",
       "    <tr>\n",
       "      <th>1</th>\n",
       "      <td>1</td>\n",
       "      <td>202102</td>\n",
       "      <td>A</td>\n",
       "    </tr>\n",
       "    <tr>\n",
       "      <th>2</th>\n",
       "      <td>1</td>\n",
       "      <td>202103</td>\n",
       "      <td>A</td>\n",
       "    </tr>\n",
       "    <tr>\n",
       "      <th>3</th>\n",
       "      <td>2</td>\n",
       "      <td>202101</td>\n",
       "      <td>A</td>\n",
       "    </tr>\n",
       "    <tr>\n",
       "      <th>4</th>\n",
       "      <td>2</td>\n",
       "      <td>202102</td>\n",
       "      <td>C</td>\n",
       "    </tr>\n",
       "    <tr>\n",
       "      <th>5</th>\n",
       "      <td>2</td>\n",
       "      <td>202103</td>\n",
       "      <td>D</td>\n",
       "    </tr>\n",
       "    <tr>\n",
       "      <th>6</th>\n",
       "      <td>3</td>\n",
       "      <td>202101</td>\n",
       "      <td>E</td>\n",
       "    </tr>\n",
       "    <tr>\n",
       "      <th>7</th>\n",
       "      <td>3</td>\n",
       "      <td>202102</td>\n",
       "      <td>E</td>\n",
       "    </tr>\n",
       "    <tr>\n",
       "      <th>8</th>\n",
       "      <td>3</td>\n",
       "      <td>202103</td>\n",
       "      <td>E</td>\n",
       "    </tr>\n",
       "    <tr>\n",
       "      <th>9</th>\n",
       "      <td>4</td>\n",
       "      <td>202101</td>\n",
       "      <td>A</td>\n",
       "    </tr>\n",
       "    <tr>\n",
       "      <th>10</th>\n",
       "      <td>4</td>\n",
       "      <td>202102</td>\n",
       "      <td>A</td>\n",
       "    </tr>\n",
       "    <tr>\n",
       "      <th>11</th>\n",
       "      <td>4</td>\n",
       "      <td>202103</td>\n",
       "      <td>B</td>\n",
       "    </tr>\n",
       "    <tr>\n",
       "      <th>12</th>\n",
       "      <td>5</td>\n",
       "      <td>202101</td>\n",
       "      <td>E</td>\n",
       "    </tr>\n",
       "    <tr>\n",
       "      <th>13</th>\n",
       "      <td>5</td>\n",
       "      <td>202102</td>\n",
       "      <td>E</td>\n",
       "    </tr>\n",
       "    <tr>\n",
       "      <th>14</th>\n",
       "      <td>5</td>\n",
       "      <td>202103</td>\n",
       "      <td>E</td>\n",
       "    </tr>\n",
       "    <tr>\n",
       "      <th>15</th>\n",
       "      <td>6</td>\n",
       "      <td>202101</td>\n",
       "      <td>G</td>\n",
       "    </tr>\n",
       "    <tr>\n",
       "      <th>16</th>\n",
       "      <td>6</td>\n",
       "      <td>202102</td>\n",
       "      <td>C</td>\n",
       "    </tr>\n",
       "    <tr>\n",
       "      <th>17</th>\n",
       "      <td>6</td>\n",
       "      <td>202103</td>\n",
       "      <td>C</td>\n",
       "    </tr>\n",
       "  </tbody>\n",
       "</table>\n",
       "</div>"
      ],
      "text/plain": [
       "    Cuenta   Fecha Calificacion\n",
       "0        1  202101            A\n",
       "1        1  202102            A\n",
       "2        1  202103            A\n",
       "3        2  202101            A\n",
       "4        2  202102            C\n",
       "5        2  202103            D\n",
       "6        3  202101            E\n",
       "7        3  202102            E\n",
       "8        3  202103            E\n",
       "9        4  202101            A\n",
       "10       4  202102            A\n",
       "11       4  202103            B\n",
       "12       5  202101            E\n",
       "13       5  202102            E\n",
       "14       5  202103            E\n",
       "15       6  202101            G\n",
       "16       6  202102            C\n",
       "17       6  202103            C"
      ]
     },
     "execution_count": 70,
     "metadata": {},
     "output_type": "execute_result"
    }
   ],
   "source": [
    "dbp8_2"
   ]
  },
  {
   "cell_type": "markdown",
   "metadata": {},
   "source": [
    "Para evitar la redundancia de datos crearemos una tabla catalogo para los diferentes planes de lealtad"
   ]
  },
  {
   "cell_type": "code",
   "execution_count": 49,
   "metadata": {},
   "outputs": [
    {
     "data": {
      "text/html": [
       "<div>\n",
       "<style scoped>\n",
       "    .dataframe tbody tr th:only-of-type {\n",
       "        vertical-align: middle;\n",
       "    }\n",
       "\n",
       "    .dataframe tbody tr th {\n",
       "        vertical-align: top;\n",
       "    }\n",
       "\n",
       "    .dataframe thead th {\n",
       "        text-align: right;\n",
       "    }\n",
       "</style>\n",
       "<table border=\"1\" class=\"dataframe\">\n",
       "  <thead>\n",
       "    <tr style=\"text-align: right;\">\n",
       "      <th></th>\n",
       "      <th>plan</th>\n",
       "    </tr>\n",
       "    <tr>\n",
       "      <th>id</th>\n",
       "      <th></th>\n",
       "    </tr>\n",
       "  </thead>\n",
       "  <tbody>\n",
       "    <tr>\n",
       "      <th>1</th>\n",
       "      <td>MillasPlus</td>\n",
       "    </tr>\n",
       "    <tr>\n",
       "      <th>2</th>\n",
       "      <td>Cashback</td>\n",
       "    </tr>\n",
       "  </tbody>\n",
       "</table>\n",
       "</div>"
      ],
      "text/plain": [
       "          plan\n",
       "id            \n",
       "1   MillasPlus\n",
       "2     Cashback"
      ]
     },
     "execution_count": 49,
     "metadata": {},
     "output_type": "execute_result"
    }
   ],
   "source": [
    "planes_lealtad = pd.DataFrame({\n",
    "    'id': [1, 2],\n",
    "    'plan': ['MillasPlus', 'Cashback'],\n",
    "})\n",
    "planes_lealtad = planes_lealtad.set_index('id')\n",
    "planes_lealtad"
   ]
  },
  {
   "cell_type": "markdown",
   "metadata": {},
   "source": [
    "Ahora uniremos las tablas"
   ]
  },
  {
   "cell_type": "code",
   "execution_count": 82,
   "metadata": {
    "vscode": {
     "languageId": "sql"
    }
   },
   "outputs": [
    {
     "name": "stdout",
     "output_type": "stream",
     "text": [
      "Couldn't find program: 'false'\n"
     ]
    }
   ],
   "source": [
    "%%script false --no-raise-error\n",
    "SELECT d1.cuenta, d2.calificacion, d3.id as plan_id,d3.plan\n",
    "FROM dbp8_1 as d1\n",
    "    INNER JOIN dbp8_2 as d2\n",
    "        ON d1.cuenta = d2.cuenta\n",
    "    INNER JOIN planes_lealtad as d3\n",
    "        ON d1.plan_lealtad = d3.plan\n",
    "           "
   ]
  },
  {
   "cell_type": "code",
   "execution_count": 75,
   "metadata": {},
   "outputs": [
    {
     "name": "stdout",
     "output_type": "stream",
     "text": [
      "    Cuenta Calificacion  plan_id        plan\n",
      "0        1            A        1  MillasPlus\n",
      "1        1            A        1  MillasPlus\n",
      "2        1            A        1  MillasPlus\n",
      "3        2            A        2    Cashback\n",
      "4        2            C        2    Cashback\n",
      "5        2            D        2    Cashback\n",
      "6        3            E        2    Cashback\n",
      "7        3            E        2    Cashback\n",
      "8        3            E        2    Cashback\n",
      "9        4            A        1  MillasPlus\n",
      "10       4            A        1  MillasPlus\n",
      "11       4            B        1  MillasPlus\n",
      "12       5            E        1  MillasPlus\n",
      "13       5            E        1  MillasPlus\n",
      "14       5            E        1  MillasPlus\n",
      "15       6            C        2    Cashback\n",
      "16       6            C        2    Cashback\n",
      "17       6            G        2    Cashback\n"
     ]
    }
   ],
   "source": [
    "print(sqldf('''\n",
    "            SELECT d1.cuenta, d2.calificacion, d3.id as plan_id,d3.plan\n",
    "            FROM dbp8_1 as d1\n",
    "            INNER JOIN dbp8_2 as d2\n",
    "                ON d1.cuenta = d2.cuenta\n",
    "            INNER JOIN planes_lealtad as d3\n",
    "                ON d1.plan_lealtad = d3.plan\n",
    "            '''))"
   ]
  },
  {
   "cell_type": "markdown",
   "metadata": {},
   "source": [
    "### Mejorar por agrupación"
   ]
  },
  {
   "cell_type": "code",
   "execution_count": 83,
   "metadata": {
    "vscode": {
     "languageId": "sql"
    }
   },
   "outputs": [
    {
     "name": "stdout",
     "output_type": "stream",
     "text": [
      "Couldn't find program: 'false'\n"
     ]
    }
   ],
   "source": [
    "%%script false --no-raise-error\n",
    "SELECT d1.cuenta, d2.calificacion, d3.id as plan_id,d3.plan, COUNT(d1.cuenta) as cantidad\n",
    "    FROM dbp8_1 as d1\n",
    "        INNER JOIN dbp8_2 as d2\n",
    "            ON d1.cuenta = d2.cuenta\n",
    "        INNER JOIN planes_lealtad as d3\n",
    "                ON d1.plan_lealtad = d3.plan\n",
    "    GROUP BY d1.cuenta, d2.calificacion"
   ]
  },
  {
   "cell_type": "code",
   "execution_count": 76,
   "metadata": {},
   "outputs": [
    {
     "name": "stdout",
     "output_type": "stream",
     "text": [
      "   Cuenta Calificacion  plan_id        plan  cantidad\n",
      "0       1            A        1  MillasPlus         3\n",
      "1       2            A        2    Cashback         1\n",
      "2       2            C        2    Cashback         1\n",
      "3       2            D        2    Cashback         1\n",
      "4       3            E        2    Cashback         3\n",
      "5       4            A        1  MillasPlus         2\n",
      "6       4            B        1  MillasPlus         1\n",
      "7       5            E        1  MillasPlus         3\n",
      "8       6            C        2    Cashback         2\n",
      "9       6            G        2    Cashback         1\n"
     ]
    }
   ],
   "source": [
    "print(sqldf('''\n",
    "            SELECT d1.cuenta, d2.calificacion, d3.id as plan_id,d3.plan, COUNT(d1.cuenta) as cantidad\n",
    "            FROM dbp8_1 as d1\n",
    "            INNER JOIN dbp8_2 as d2\n",
    "                ON d1.cuenta = d2.cuenta\n",
    "            INNER JOIN planes_lealtad as d3\n",
    "                ON d1.plan_lealtad = d3.plan\n",
    "            GROUP BY d1.cuenta, d2.calificacion\n",
    "            '''))"
   ]
  }
 ],
 "metadata": {
  "kernelspec": {
   "display_name": "Python 3",
   "language": "python",
   "name": "python3"
  },
  "language_info": {
   "codemirror_mode": {
    "name": "ipython",
    "version": 3
   },
   "file_extension": ".py",
   "mimetype": "text/x-python",
   "name": "python",
   "nbconvert_exporter": "python",
   "pygments_lexer": "ipython3",
   "version": "3.11.4"
  }
 },
 "nbformat": 4,
 "nbformat_minor": 2
}
